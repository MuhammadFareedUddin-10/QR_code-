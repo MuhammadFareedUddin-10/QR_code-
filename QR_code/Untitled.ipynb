{
 "cells": [
  {
   "cell_type": "code",
   "execution_count": 1,
   "id": "6b8c5e68",
   "metadata": {},
   "outputs": [
    {
     "name": "stdout",
     "output_type": "stream",
     "text": [
      "Requirement already satisfied: pillow in f:\\anacondasetup\\lib\\site-packages (9.4.0)\n",
      "Note: you may need to restart the kernel to use updated packages.\n",
      "Collecting qrcode\n",
      "  Using cached qrcode-7.4.2-py3-none-any.whl (46 kB)\n",
      "Requirement already satisfied: typing-extensions in f:\\anacondasetup\\lib\\site-packages (from qrcode) (4.4.0)\n",
      "Collecting pypng\n",
      "  Using cached pypng-0.20220715.0-py3-none-any.whl (58 kB)\n",
      "Requirement already satisfied: colorama in f:\\anacondasetup\\lib\\site-packages (from qrcode) (0.4.6)\n",
      "Installing collected packages: pypng, qrcode\n",
      "Successfully installed pypng-0.20220715.0 qrcode-7.4.2\n",
      "Note: you may need to restart the kernel to use updated packages.\n"
     ]
    }
   ],
   "source": [
    "%pip install pillow\n",
    "%pip install qrcode"
   ]
  },
  {
   "cell_type": "code",
   "execution_count": 13,
   "id": "abdd4fe9",
   "metadata": {
    "scrolled": false
   },
   "outputs": [
    {
     "name": "stdout",
     "output_type": "stream",
     "text": [
      "QR code generated!\n"
     ]
    },
    {
     "name": "stderr",
     "output_type": "stream",
     "text": [
      "C:\\Users\\cz 3\\AppData\\Local\\Temp\\ipykernel_6688\\447532451.py:11: DeprecationWarning: ANTIALIAS is deprecated and will be removed in Pillow 10 (2023-07-01). Use LANCZOS or Resampling.LANCZOS instead.\n",
      "  logo = logo.resize((basewidth, hsize), Image.ANTIALIAS)\n"
     ]
    }
   ],
   "source": [
    "import qrcode #for generating rq code\n",
    "from PIL import Image #python imaging library for image processing\n",
    "Logo_link = 'hnh logo.jpg'\n",
    "\n",
    "logo = Image.open(Logo_link)\n",
    "\n",
    "basewidth = 90\n",
    "\n",
    "wpercent = (basewidth/float(logo.size[0]))\n",
    "hsize = int((float(logo.size[1])*float(wpercent))) \n",
    "logo = logo.resize((basewidth, hsize), Image.ANTIALIAS)\n",
    "QRcode = qrcode.QRCode(\n",
    "    error_correction=qrcode.constants.ERROR_CORRECT_H\n",
    ")\n",
    "\n",
    "url = 'https://hnhtechsolutions.com/'\n",
    "\n",
    "QRcode.add_data(url)\n",
    "\n",
    "QRcode.make()\n",
    "\n",
    "QRcolor = 'Black'\n",
    "\n",
    "QRimg = QRcode.make_image(\n",
    "    fill_color=QRcolor, back_color=\"white\").convert('RGB')\n",
    "\n",
    "pos = ((QRimg.size[0] - logo.size[0]) // 2, (QRimg.size[1] - logo.size[1]) // 2)\n",
    "\n",
    "QRimg.paste(logo, pos)\n",
    " \n",
    "QRimg.save('gfg_QR.png')\n",
    " \n",
    "print('QR code generated!')"
   ]
  },
  {
   "cell_type": "code",
   "execution_count": null,
   "id": "2c9a7ddc",
   "metadata": {},
   "outputs": [],
   "source": []
  }
 ],
 "metadata": {
  "kernelspec": {
   "display_name": "Python 3 (ipykernel)",
   "language": "python",
   "name": "python3"
  },
  "language_info": {
   "codemirror_mode": {
    "name": "ipython",
    "version": 3
   },
   "file_extension": ".py",
   "mimetype": "text/x-python",
   "name": "python",
   "nbconvert_exporter": "python",
   "pygments_lexer": "ipython3",
   "version": "3.10.9"
  }
 },
 "nbformat": 4,
 "nbformat_minor": 5
}
